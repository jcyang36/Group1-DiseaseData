{
 "cells": [
  {
   "cell_type": "code",
   "execution_count": 1,
   "metadata": {},
   "outputs": [],
   "source": [
    "import pandas as pd\n",
    "import numpy as np\n",
    "import matplotlib.pyplot as plt\n",
    "\n",
    "%matplotlib inline"
   ]
  },
  {
   "cell_type": "code",
   "execution_count": 2,
   "metadata": {},
   "outputs": [],
   "source": [
    "dfInt=pd.read_excel(\"intcon.new.xlsx\")"
   ]
  },
  {
   "cell_type": "code",
   "execution_count": 3,
   "metadata": {},
   "outputs": [],
   "source": [
    "day=dfInt['Date']"
   ]
  },
  {
   "cell_type": "code",
   "execution_count": 4,
   "metadata": {},
   "outputs": [],
   "source": [
    "cases=dfInt['Confirmed Cases']"
   ]
  },
  {
   "cell_type": "code",
   "execution_count": 5,
   "metadata": {},
   "outputs": [],
   "source": [
    "dfInt=dfInt.groupby(dfInt['Date']).sum()"
   ]
  },
  {
   "cell_type": "code",
   "execution_count": 6,
   "metadata": {},
   "outputs": [
    {
     "data": {
      "text/html": [
       "<div>\n",
       "<style scoped>\n",
       "    .dataframe tbody tr th:only-of-type {\n",
       "        vertical-align: middle;\n",
       "    }\n",
       "\n",
       "    .dataframe tbody tr th {\n",
       "        vertical-align: top;\n",
       "    }\n",
       "\n",
       "    .dataframe thead th {\n",
       "        text-align: right;\n",
       "    }\n",
       "</style>\n",
       "<table border=\"1\" class=\"dataframe\">\n",
       "  <thead>\n",
       "    <tr style=\"text-align: right;\">\n",
       "      <th></th>\n",
       "      <th>Date</th>\n",
       "      <th>Confirmed Cases</th>\n",
       "      <th>Exposure under investigation</th>\n",
       "      <th>Total Deaths</th>\n",
       "      <th>Exposure in China</th>\n",
       "      <th>Exposure outside China</th>\n",
       "    </tr>\n",
       "  </thead>\n",
       "  <tbody>\n",
       "    <tr>\n",
       "      <th>0</th>\n",
       "      <td>2020-02-03</td>\n",
       "      <td>153</td>\n",
       "      <td>6</td>\n",
       "      <td>1</td>\n",
       "      <td>123</td>\n",
       "      <td>24</td>\n",
       "    </tr>\n",
       "    <tr>\n",
       "      <th>1</th>\n",
       "      <td>2020-02-07</td>\n",
       "      <td>270</td>\n",
       "      <td>66</td>\n",
       "      <td>1</td>\n",
       "      <td>150</td>\n",
       "      <td>54</td>\n",
       "    </tr>\n",
       "    <tr>\n",
       "      <th>2</th>\n",
       "      <td>2020-02-11</td>\n",
       "      <td>321</td>\n",
       "      <td>146</td>\n",
       "      <td>1</td>\n",
       "      <td>165</td>\n",
       "      <td>84</td>\n",
       "    </tr>\n",
       "    <tr>\n",
       "      <th>3</th>\n",
       "      <td>2020-02-15</td>\n",
       "      <td>369</td>\n",
       "      <td>229</td>\n",
       "      <td>2</td>\n",
       "      <td>170</td>\n",
       "      <td>127</td>\n",
       "    </tr>\n",
       "    <tr>\n",
       "      <th>4</th>\n",
       "      <td>2020-02-19</td>\n",
       "      <td>443</td>\n",
       "      <td>570</td>\n",
       "      <td>3</td>\n",
       "      <td>174</td>\n",
       "      <td>180</td>\n",
       "    </tr>\n",
       "    <tr>\n",
       "      <th>5</th>\n",
       "      <td>2020-02-23</td>\n",
       "      <td>1196</td>\n",
       "      <td>965</td>\n",
       "      <td>17</td>\n",
       "      <td>178</td>\n",
       "      <td>626</td>\n",
       "    </tr>\n",
       "  </tbody>\n",
       "</table>\n",
       "</div>"
      ],
      "text/plain": [
       "        Date  Confirmed Cases  Exposure under investigation  Total Deaths  \\\n",
       "0 2020-02-03              153                             6             1   \n",
       "1 2020-02-07              270                            66             1   \n",
       "2 2020-02-11              321                           146             1   \n",
       "3 2020-02-15              369                           229             2   \n",
       "4 2020-02-19              443                           570             3   \n",
       "5 2020-02-23             1196                           965            17   \n",
       "\n",
       "   Exposure in China  Exposure outside China   \n",
       "0                123                       24  \n",
       "1                150                       54  \n",
       "2                165                       84  \n",
       "3                170                      127  \n",
       "4                174                      180  \n",
       "5                178                      626  "
      ]
     },
     "execution_count": 6,
     "metadata": {},
     "output_type": "execute_result"
    }
   ],
   "source": [
    "dfInt.reset_index()"
   ]
  },
  {
   "cell_type": "code",
   "execution_count": 7,
   "metadata": {},
   "outputs": [],
   "source": [
    "day=pd.Series([1,2,3,4,5,6])"
   ]
  },
  {
   "cell_type": "code",
   "execution_count": 8,
   "metadata": {},
   "outputs": [
    {
     "data": {
      "text/html": [
       "<div>\n",
       "<style scoped>\n",
       "    .dataframe tbody tr th:only-of-type {\n",
       "        vertical-align: middle;\n",
       "    }\n",
       "\n",
       "    .dataframe tbody tr th {\n",
       "        vertical-align: top;\n",
       "    }\n",
       "\n",
       "    .dataframe thead th {\n",
       "        text-align: right;\n",
       "    }\n",
       "</style>\n",
       "<table border=\"1\" class=\"dataframe\">\n",
       "  <thead>\n",
       "    <tr style=\"text-align: right;\">\n",
       "      <th></th>\n",
       "      <th>Confirmed Cases</th>\n",
       "      <th>Exposure under investigation</th>\n",
       "      <th>Total Deaths</th>\n",
       "      <th>Exposure in China</th>\n",
       "      <th>Exposure outside China</th>\n",
       "    </tr>\n",
       "  </thead>\n",
       "  <tbody>\n",
       "    <tr>\n",
       "      <th>1</th>\n",
       "      <td>153</td>\n",
       "      <td>6</td>\n",
       "      <td>1</td>\n",
       "      <td>123</td>\n",
       "      <td>24</td>\n",
       "    </tr>\n",
       "    <tr>\n",
       "      <th>2</th>\n",
       "      <td>270</td>\n",
       "      <td>66</td>\n",
       "      <td>1</td>\n",
       "      <td>150</td>\n",
       "      <td>54</td>\n",
       "    </tr>\n",
       "    <tr>\n",
       "      <th>3</th>\n",
       "      <td>321</td>\n",
       "      <td>146</td>\n",
       "      <td>1</td>\n",
       "      <td>165</td>\n",
       "      <td>84</td>\n",
       "    </tr>\n",
       "    <tr>\n",
       "      <th>4</th>\n",
       "      <td>369</td>\n",
       "      <td>229</td>\n",
       "      <td>2</td>\n",
       "      <td>170</td>\n",
       "      <td>127</td>\n",
       "    </tr>\n",
       "    <tr>\n",
       "      <th>5</th>\n",
       "      <td>443</td>\n",
       "      <td>570</td>\n",
       "      <td>3</td>\n",
       "      <td>174</td>\n",
       "      <td>180</td>\n",
       "    </tr>\n",
       "    <tr>\n",
       "      <th>6</th>\n",
       "      <td>1196</td>\n",
       "      <td>965</td>\n",
       "      <td>17</td>\n",
       "      <td>178</td>\n",
       "      <td>626</td>\n",
       "    </tr>\n",
       "  </tbody>\n",
       "</table>\n",
       "</div>"
      ],
      "text/plain": [
       "   Confirmed Cases  Exposure under investigation  Total Deaths  \\\n",
       "1              153                             6             1   \n",
       "2              270                            66             1   \n",
       "3              321                           146             1   \n",
       "4              369                           229             2   \n",
       "5              443                           570             3   \n",
       "6             1196                           965            17   \n",
       "\n",
       "   Exposure in China  Exposure outside China   \n",
       "1                123                       24  \n",
       "2                150                       54  \n",
       "3                165                       84  \n",
       "4                170                      127  \n",
       "5                174                      180  \n",
       "6                178                      626  "
      ]
     },
     "execution_count": 8,
     "metadata": {},
     "output_type": "execute_result"
    }
   ],
   "source": [
    "dfInt.set_index(day)"
   ]
  },
  {
   "cell_type": "code",
   "execution_count": 9,
   "metadata": {},
   "outputs": [],
   "source": [
    "cases=dfInt['Confirmed Cases']"
   ]
  },
  {
   "cell_type": "code",
   "execution_count": 10,
   "metadata": {},
   "outputs": [
    {
     "data": {
      "text/plain": [
       "Date\n",
       "2020-02-03     153\n",
       "2020-02-07     270\n",
       "2020-02-11     321\n",
       "2020-02-15     369\n",
       "2020-02-19     443\n",
       "2020-02-23    1196\n",
       "Name: Confirmed Cases, dtype: int64"
      ]
     },
     "execution_count": 10,
     "metadata": {},
     "output_type": "execute_result"
    }
   ],
   "source": [
    "cases"
   ]
  },
  {
   "cell_type": "code",
   "execution_count": 11,
   "metadata": {},
   "outputs": [],
   "source": [
    "coefDeg3=np.polyfit(day,cases,3)"
   ]
  },
  {
   "cell_type": "code",
   "execution_count": 12,
   "metadata": {},
   "outputs": [
    {
     "data": {
      "text/plain": [
       "array([  35.2962963 , -312.18253968,  875.09259259, -463.66666667])"
      ]
     },
     "execution_count": 12,
     "metadata": {},
     "output_type": "execute_result"
    }
   ],
   "source": [
    "coefDeg3"
   ]
  },
  {
   "cell_type": "code",
   "execution_count": 13,
   "metadata": {},
   "outputs": [],
   "source": [
    "equ=np.poly1d(coefDeg3)"
   ]
  },
  {
   "cell_type": "code",
   "execution_count": 14,
   "metadata": {},
   "outputs": [
    {
     "name": "stdout",
     "output_type": "stream",
     "text": [
      "      3         2\n",
      "35.3 x - 312.2 x + 875.1 x - 463.7\n"
     ]
    }
   ],
   "source": [
    "print(equ)"
   ]
  },
  {
   "cell_type": "code",
   "execution_count": 15,
   "metadata": {},
   "outputs": [
    {
     "data": {
      "image/png": "[encoded data removed]",
      "text/plain": [
       "<Figure size 432x288 with 1 Axes>"
      ]
     },
     "metadata": {
      "needs_background": "light"
     },
     "output_type": "display_data"
    }
   ],
   "source": [
    "x_plot =np.linspace(0,10,41)\n",
    "y_plot=equ(x_plot)\n",
    "plt.plot(x_plot,y_plot,color='r')\n",
    "cases=dfInt[\"Confirmed Cases\"]\n",
    "\n",
    "plt.scatter(day,cases,label='Cases on each day')\n",
    "plt.title(\"Coronavirus Cases Observed\")\n",
    "plt.xlabel('Day')\n",
    "plt.ylabel('Cases')\n",
    "plt.legend()\n",
    "\n",
    "\n",
    "plt.show()"
   ]
  },
  {
   "cell_type": "code",
   "execution_count": null,
   "metadata": {},
   "outputs": [],
   "source": []
  }
 ],
 "metadata": {
  "kernelspec": {
   "display_name": "Python 2",
   "language": "python",
   "name": "python2"
  },
  "language_info": {
   "codemirror_mode": {
    "name": "ipython",
    "version": 2
   },
   "file_extension": ".py",
   "mimetype": "text/x-python",
   "name": "python",
   "nbconvert_exporter": "python",
   "pygments_lexer": "ipython2",
   "version": "2.7.16"
  }
 },
 "nbformat": 4,
 "nbformat_minor": 2
}
