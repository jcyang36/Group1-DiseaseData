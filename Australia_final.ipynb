{
 "cells": [
  {
   "cell_type": "code",
   "execution_count": 1,
   "metadata": {},
   "outputs": [],
   "source": [
    "import numpy as np\n",
    "import pandas as pd\n",
    "import matplotlib.pyplot as plt\n",
    "from scipy.optimize import curve_fit\n",
    "%matplotlib inline"
   ]
  },
  {
   "cell_type": "code",
   "execution_count": 3,
   "metadata": {},
   "outputs": [
    {
     "data": {
      "text/html": [
       "<div>\n",
       "<style scoped>\n",
       "    .dataframe tbody tr th:only-of-type {\n",
       "        vertical-align: middle;\n",
       "    }\n",
       "\n",
       "    .dataframe tbody tr th {\n",
       "        vertical-align: top;\n",
       "    }\n",
       "\n",
       "    .dataframe thead th {\n",
       "        text-align: right;\n",
       "    }\n",
       "</style>\n",
       "<table border=\"1\" class=\"dataframe\">\n",
       "  <thead>\n",
       "    <tr style=\"text-align: right;\">\n",
       "      <th></th>\n",
       "      <th>Date</th>\n",
       "      <th>Country/Territory/Area</th>\n",
       "      <th>Confirmed Cases</th>\n",
       "      <th>Exposure under investigation</th>\n",
       "      <th>Total Deaths</th>\n",
       "      <th>Exposure in China</th>\n",
       "      <th>Exposure outside China</th>\n",
       "    </tr>\n",
       "  </thead>\n",
       "  <tbody>\n",
       "    <tr>\n",
       "      <th>0</th>\n",
       "      <td>2020-02-23</td>\n",
       "      <td>Australia</td>\n",
       "      <td>12</td>\n",
       "      <td>0</td>\n",
       "      <td>0</td>\n",
       "      <td>12</td>\n",
       "      <td>10</td>\n",
       "    </tr>\n",
       "    <tr>\n",
       "      <th>1</th>\n",
       "      <td>2020-02-19</td>\n",
       "      <td>Australia</td>\n",
       "      <td>12</td>\n",
       "      <td>0</td>\n",
       "      <td>0</td>\n",
       "      <td>12</td>\n",
       "      <td>3</td>\n",
       "    </tr>\n",
       "    <tr>\n",
       "      <th>2</th>\n",
       "      <td>2020-02-15</td>\n",
       "      <td>Australia</td>\n",
       "      <td>12</td>\n",
       "      <td>0</td>\n",
       "      <td>0</td>\n",
       "      <td>12</td>\n",
       "      <td>3</td>\n",
       "    </tr>\n",
       "    <tr>\n",
       "      <th>3</th>\n",
       "      <td>2020-02-11</td>\n",
       "      <td>Australia</td>\n",
       "      <td>12</td>\n",
       "      <td>0</td>\n",
       "      <td>0</td>\n",
       "      <td>15</td>\n",
       "      <td>0</td>\n",
       "    </tr>\n",
       "    <tr>\n",
       "      <th>4</th>\n",
       "      <td>2020-02-07</td>\n",
       "      <td>Australia</td>\n",
       "      <td>12</td>\n",
       "      <td>0</td>\n",
       "      <td>0</td>\n",
       "      <td>15</td>\n",
       "      <td>0</td>\n",
       "    </tr>\n",
       "    <tr>\n",
       "      <th>...</th>\n",
       "      <td>...</td>\n",
       "      <td>...</td>\n",
       "      <td>...</td>\n",
       "      <td>...</td>\n",
       "      <td>...</td>\n",
       "      <td>...</td>\n",
       "      <td>...</td>\n",
       "    </tr>\n",
       "    <tr>\n",
       "      <th>149</th>\n",
       "      <td>2020-02-19</td>\n",
       "      <td>Vietnam</td>\n",
       "      <td>16</td>\n",
       "      <td>0</td>\n",
       "      <td>0</td>\n",
       "      <td>8</td>\n",
       "      <td>8</td>\n",
       "    </tr>\n",
       "    <tr>\n",
       "      <th>150</th>\n",
       "      <td>2020-02-15</td>\n",
       "      <td>Vietnam</td>\n",
       "      <td>16</td>\n",
       "      <td>0</td>\n",
       "      <td>0</td>\n",
       "      <td>8</td>\n",
       "      <td>8</td>\n",
       "    </tr>\n",
       "    <tr>\n",
       "      <th>151</th>\n",
       "      <td>2020-02-11</td>\n",
       "      <td>Vietnam</td>\n",
       "      <td>15</td>\n",
       "      <td>1</td>\n",
       "      <td>0</td>\n",
       "      <td>8</td>\n",
       "      <td>6</td>\n",
       "    </tr>\n",
       "    <tr>\n",
       "      <th>152</th>\n",
       "      <td>2020-02-07</td>\n",
       "      <td>Vietnam</td>\n",
       "      <td>12</td>\n",
       "      <td>0</td>\n",
       "      <td>0</td>\n",
       "      <td>7</td>\n",
       "      <td>5</td>\n",
       "    </tr>\n",
       "    <tr>\n",
       "      <th>153</th>\n",
       "      <td>2020-02-03</td>\n",
       "      <td>Vietnam</td>\n",
       "      <td>8</td>\n",
       "      <td>0</td>\n",
       "      <td>0</td>\n",
       "      <td>6</td>\n",
       "      <td>2</td>\n",
       "    </tr>\n",
       "  </tbody>\n",
       "</table>\n",
       "<p>154 rows × 7 columns</p>\n",
       "</div>"
      ],
      "text/plain": [
       "          Date Country/Territory/Area  Confirmed Cases  \\\n",
       "0   2020-02-23              Australia               12   \n",
       "1   2020-02-19              Australia               12   \n",
       "2   2020-02-15              Australia               12   \n",
       "3   2020-02-11              Australia               12   \n",
       "4   2020-02-07              Australia               12   \n",
       "..         ...                    ...              ...   \n",
       "149 2020-02-19                Vietnam               16   \n",
       "150 2020-02-15                Vietnam               16   \n",
       "151 2020-02-11                Vietnam               15   \n",
       "152 2020-02-07                Vietnam               12   \n",
       "153 2020-02-03                Vietnam                8   \n",
       "\n",
       "     Exposure under investigation  Total Deaths  Exposure in China  \\\n",
       "0                               0             0                 12   \n",
       "1                               0             0                 12   \n",
       "2                               0             0                 12   \n",
       "3                               0             0                 15   \n",
       "4                               0             0                 15   \n",
       "..                            ...           ...                ...   \n",
       "149                             0             0                  8   \n",
       "150                             0             0                  8   \n",
       "151                             1             0                  8   \n",
       "152                             0             0                  7   \n",
       "153                             0             0                  6   \n",
       "\n",
       "     Exposure outside China   \n",
       "0                         10  \n",
       "1                          3  \n",
       "2                          3  \n",
       "3                          0  \n",
       "4                          0  \n",
       "..                       ...  \n",
       "149                        8  \n",
       "150                        8  \n",
       "151                        6  \n",
       "152                        5  \n",
       "153                        2  \n",
       "\n",
       "[154 rows x 7 columns]"
      ]
     },
     "execution_count": 3,
     "metadata": {},
     "output_type": "execute_result"
    }
   ],
   "source": [
    "df=pd.read_excel(\"australia.new.xlsx\",sheet_name=\"Australiaa\")\n",
    "df"
   ]
  },
  {
   "cell_type": "code",
   "execution_count": 5,
   "metadata": {},
   "outputs": [
    {
     "data": {
      "text/html": [
       "<div>\n",
       "<style scoped>\n",
       "    .dataframe tbody tr th:only-of-type {\n",
       "        vertical-align: middle;\n",
       "    }\n",
       "\n",
       "    .dataframe tbody tr th {\n",
       "        vertical-align: top;\n",
       "    }\n",
       "\n",
       "    .dataframe thead th {\n",
       "        text-align: right;\n",
       "    }\n",
       "</style>\n",
       "<table border=\"1\" class=\"dataframe\">\n",
       "  <thead>\n",
       "    <tr style=\"text-align: right;\">\n",
       "      <th></th>\n",
       "      <th>Confirmed Cases</th>\n",
       "      <th>Exposure under investigation</th>\n",
       "      <th>Total Deaths</th>\n",
       "      <th>Exposure in China</th>\n",
       "      <th>Exposure outside China</th>\n",
       "    </tr>\n",
       "    <tr>\n",
       "      <th>Date</th>\n",
       "      <th></th>\n",
       "      <th></th>\n",
       "      <th></th>\n",
       "      <th></th>\n",
       "      <th></th>\n",
       "    </tr>\n",
       "  </thead>\n",
       "  <tbody>\n",
       "    <tr>\n",
       "      <th>2020-02-03</th>\n",
       "      <td>153</td>\n",
       "      <td>6</td>\n",
       "      <td>1</td>\n",
       "      <td>123</td>\n",
       "      <td>24</td>\n",
       "    </tr>\n",
       "    <tr>\n",
       "      <th>2020-02-07</th>\n",
       "      <td>267</td>\n",
       "      <td>66</td>\n",
       "      <td>1</td>\n",
       "      <td>150</td>\n",
       "      <td>54</td>\n",
       "    </tr>\n",
       "    <tr>\n",
       "      <th>2020-02-11</th>\n",
       "      <td>392</td>\n",
       "      <td>146</td>\n",
       "      <td>1</td>\n",
       "      <td>165</td>\n",
       "      <td>84</td>\n",
       "    </tr>\n",
       "    <tr>\n",
       "      <th>2020-02-15</th>\n",
       "      <td>523</td>\n",
       "      <td>229</td>\n",
       "      <td>2</td>\n",
       "      <td>170</td>\n",
       "      <td>127</td>\n",
       "    </tr>\n",
       "    <tr>\n",
       "      <th>2020-02-19</th>\n",
       "      <td>921</td>\n",
       "      <td>570</td>\n",
       "      <td>3</td>\n",
       "      <td>174</td>\n",
       "      <td>180</td>\n",
       "    </tr>\n",
       "    <tr>\n",
       "      <th>2020-02-23</th>\n",
       "      <td>1759</td>\n",
       "      <td>965</td>\n",
       "      <td>17</td>\n",
       "      <td>178</td>\n",
       "      <td>626</td>\n",
       "    </tr>\n",
       "  </tbody>\n",
       "</table>\n",
       "</div>"
      ],
      "text/plain": [
       "            Confirmed Cases  Exposure under investigation  Total Deaths  \\\n",
       "Date                                                                      \n",
       "2020-02-03              153                             6             1   \n",
       "2020-02-07              267                            66             1   \n",
       "2020-02-11              392                           146             1   \n",
       "2020-02-15              523                           229             2   \n",
       "2020-02-19              921                           570             3   \n",
       "2020-02-23             1759                           965            17   \n",
       "\n",
       "            Exposure in China  Exposure outside China   \n",
       "Date                                                    \n",
       "2020-02-03                123                       24  \n",
       "2020-02-07                150                       54  \n",
       "2020-02-11                165                       84  \n",
       "2020-02-15                170                      127  \n",
       "2020-02-19                174                      180  \n",
       "2020-02-23                178                      626  "
      ]
     },
     "execution_count": 5,
     "metadata": {},
     "output_type": "execute_result"
    }
   ],
   "source": [
    "df=df.groupby(df['Date']).sum()\n",
    "df"
   ]
  },
  {
   "cell_type": "code",
   "execution_count": 6,
   "metadata": {},
   "outputs": [
    {
     "data": {
      "text/html": [
       "<div>\n",
       "<style scoped>\n",
       "    .dataframe tbody tr th:only-of-type {\n",
       "        vertical-align: middle;\n",
       "    }\n",
       "\n",
       "    .dataframe tbody tr th {\n",
       "        vertical-align: top;\n",
       "    }\n",
       "\n",
       "    .dataframe thead th {\n",
       "        text-align: right;\n",
       "    }\n",
       "</style>\n",
       "<table border=\"1\" class=\"dataframe\">\n",
       "  <thead>\n",
       "    <tr style=\"text-align: right;\">\n",
       "      <th></th>\n",
       "      <th>Date</th>\n",
       "      <th>Confirmed Cases</th>\n",
       "      <th>Exposure under investigation</th>\n",
       "      <th>Total Deaths</th>\n",
       "      <th>Exposure in China</th>\n",
       "      <th>Exposure outside China</th>\n",
       "    </tr>\n",
       "  </thead>\n",
       "  <tbody>\n",
       "    <tr>\n",
       "      <th>0</th>\n",
       "      <td>2020-02-03</td>\n",
       "      <td>153</td>\n",
       "      <td>6</td>\n",
       "      <td>1</td>\n",
       "      <td>123</td>\n",
       "      <td>24</td>\n",
       "    </tr>\n",
       "    <tr>\n",
       "      <th>1</th>\n",
       "      <td>2020-02-07</td>\n",
       "      <td>267</td>\n",
       "      <td>66</td>\n",
       "      <td>1</td>\n",
       "      <td>150</td>\n",
       "      <td>54</td>\n",
       "    </tr>\n",
       "    <tr>\n",
       "      <th>2</th>\n",
       "      <td>2020-02-11</td>\n",
       "      <td>392</td>\n",
       "      <td>146</td>\n",
       "      <td>1</td>\n",
       "      <td>165</td>\n",
       "      <td>84</td>\n",
       "    </tr>\n",
       "    <tr>\n",
       "      <th>3</th>\n",
       "      <td>2020-02-15</td>\n",
       "      <td>523</td>\n",
       "      <td>229</td>\n",
       "      <td>2</td>\n",
       "      <td>170</td>\n",
       "      <td>127</td>\n",
       "    </tr>\n",
       "    <tr>\n",
       "      <th>4</th>\n",
       "      <td>2020-02-19</td>\n",
       "      <td>921</td>\n",
       "      <td>570</td>\n",
       "      <td>3</td>\n",
       "      <td>174</td>\n",
       "      <td>180</td>\n",
       "    </tr>\n",
       "    <tr>\n",
       "      <th>5</th>\n",
       "      <td>2020-02-23</td>\n",
       "      <td>1759</td>\n",
       "      <td>965</td>\n",
       "      <td>17</td>\n",
       "      <td>178</td>\n",
       "      <td>626</td>\n",
       "    </tr>\n",
       "  </tbody>\n",
       "</table>\n",
       "</div>"
      ],
      "text/plain": [
       "        Date  Confirmed Cases  Exposure under investigation  Total Deaths  \\\n",
       "0 2020-02-03              153                             6             1   \n",
       "1 2020-02-07              267                            66             1   \n",
       "2 2020-02-11              392                           146             1   \n",
       "3 2020-02-15              523                           229             2   \n",
       "4 2020-02-19              921                           570             3   \n",
       "5 2020-02-23             1759                           965            17   \n",
       "\n",
       "   Exposure in China  Exposure outside China   \n",
       "0                123                       24  \n",
       "1                150                       54  \n",
       "2                165                       84  \n",
       "3                170                      127  \n",
       "4                174                      180  \n",
       "5                178                      626  "
      ]
     },
     "execution_count": 6,
     "metadata": {},
     "output_type": "execute_result"
    }
   ],
   "source": [
    "df.reset_index()"
   ]
  },
  {
   "cell_type": "code",
   "execution_count": 7,
   "metadata": {},
   "outputs": [],
   "source": [
    "day=pd.Series([1,2,3,4,5,6])"
   ]
  },
  {
   "cell_type": "code",
   "execution_count": 8,
   "metadata": {},
   "outputs": [
    {
     "data": {
      "text/html": [
       "<div>\n",
       "<style scoped>\n",
       "    .dataframe tbody tr th:only-of-type {\n",
       "        vertical-align: middle;\n",
       "    }\n",
       "\n",
       "    .dataframe tbody tr th {\n",
       "        vertical-align: top;\n",
       "    }\n",
       "\n",
       "    .dataframe thead th {\n",
       "        text-align: right;\n",
       "    }\n",
       "</style>\n",
       "<table border=\"1\" class=\"dataframe\">\n",
       "  <thead>\n",
       "    <tr style=\"text-align: right;\">\n",
       "      <th></th>\n",
       "      <th>Confirmed Cases</th>\n",
       "      <th>Exposure under investigation</th>\n",
       "      <th>Total Deaths</th>\n",
       "      <th>Exposure in China</th>\n",
       "      <th>Exposure outside China</th>\n",
       "    </tr>\n",
       "  </thead>\n",
       "  <tbody>\n",
       "    <tr>\n",
       "      <th>1</th>\n",
       "      <td>153</td>\n",
       "      <td>6</td>\n",
       "      <td>1</td>\n",
       "      <td>123</td>\n",
       "      <td>24</td>\n",
       "    </tr>\n",
       "    <tr>\n",
       "      <th>2</th>\n",
       "      <td>267</td>\n",
       "      <td>66</td>\n",
       "      <td>1</td>\n",
       "      <td>150</td>\n",
       "      <td>54</td>\n",
       "    </tr>\n",
       "    <tr>\n",
       "      <th>3</th>\n",
       "      <td>392</td>\n",
       "      <td>146</td>\n",
       "      <td>1</td>\n",
       "      <td>165</td>\n",
       "      <td>84</td>\n",
       "    </tr>\n",
       "    <tr>\n",
       "      <th>4</th>\n",
       "      <td>523</td>\n",
       "      <td>229</td>\n",
       "      <td>2</td>\n",
       "      <td>170</td>\n",
       "      <td>127</td>\n",
       "    </tr>\n",
       "    <tr>\n",
       "      <th>5</th>\n",
       "      <td>921</td>\n",
       "      <td>570</td>\n",
       "      <td>3</td>\n",
       "      <td>174</td>\n",
       "      <td>180</td>\n",
       "    </tr>\n",
       "    <tr>\n",
       "      <th>6</th>\n",
       "      <td>1759</td>\n",
       "      <td>965</td>\n",
       "      <td>17</td>\n",
       "      <td>178</td>\n",
       "      <td>626</td>\n",
       "    </tr>\n",
       "  </tbody>\n",
       "</table>\n",
       "</div>"
      ],
      "text/plain": [
       "   Confirmed Cases  Exposure under investigation  Total Deaths  \\\n",
       "1              153                             6             1   \n",
       "2              267                            66             1   \n",
       "3              392                           146             1   \n",
       "4              523                           229             2   \n",
       "5              921                           570             3   \n",
       "6             1759                           965            17   \n",
       "\n",
       "   Exposure in China  Exposure outside China   \n",
       "1                123                       24  \n",
       "2                150                       54  \n",
       "3                165                       84  \n",
       "4                170                      127  \n",
       "5                174                      180  \n",
       "6                178                      626  "
      ]
     },
     "execution_count": 8,
     "metadata": {},
     "output_type": "execute_result"
    }
   ],
   "source": [
    "df.set_index(day)"
   ]
  },
  {
   "cell_type": "code",
   "execution_count": 9,
   "metadata": {},
   "outputs": [],
   "source": [
    "cases=df['Confirmed Cases']"
   ]
  },
  {
   "cell_type": "code",
   "execution_count": 10,
   "metadata": {},
   "outputs": [
    {
     "data": {
      "image/png": "[encoded data removed]",
      "text/plain": [
       "<Figure size 432x288 with 1 Axes>"
      ]
     },
     "metadata": {
      "needs_background": "light"
     },
     "output_type": "display_data"
    }
   ],
   "source": [
    "def func3(x, a, b):\n",
    "    return a * b ** x\n",
    "popt, pcov = curve_fit(func3, day,cases, p0=[1, 1e-6])\n",
    "\n",
    "\n",
    "x_plot=np.linspace(0,10,41)\n",
    "plt.plot(x_plot, func3(x_plot, *popt), 'r-')\n",
    "plt.scatter(day,cases,label='Day vs cases')\n",
    "plt.title(\"Day vs cases a*b^x\")\n",
    "plt.xlabel('Day')\n",
    "plt.ylabel('cases')\n",
    "plt.legend()\n",
    "plt.show()"
   ]
  },
  {
   "cell_type": "code",
   "execution_count": 11,
   "metadata": {},
   "outputs": [
    {
     "data": {
      "text/plain": [
       "65.0386"
      ]
     },
     "execution_count": 11,
     "metadata": {},
     "output_type": "execute_result"
    }
   ],
   "source": [
    "a=popt[0].round(4)\n",
    "b=popt[1].round(4)\n",
    "a"
   ]
  },
  {
   "cell_type": "code",
   "execution_count": 12,
   "metadata": {},
   "outputs": [
    {
     "data": {
      "text/plain": [
       "1.726"
      ]
     },
     "execution_count": 12,
     "metadata": {},
     "output_type": "execute_result"
    }
   ],
   "source": [
    "b"
   ]
  },
  {
   "cell_type": "code",
   "execution_count": 13,
   "metadata": {},
   "outputs": [
    {
     "name": "stdout",
     "output_type": "stream",
     "text": [
      "The equation of regression line is y=65.0386*1.726^x\n"
     ]
    }
   ],
   "source": [
    "print(f'The equation of regression line is y={a}*{b}^x')"
   ]
  },
  {
   "cell_type": "code",
   "execution_count": 14,
   "metadata": {},
   "outputs": [],
   "source": [
    "y_plot=func3(x_plot,*popt)"
   ]
  },
  {
   "cell_type": "code",
   "execution_count": 15,
   "metadata": {},
   "outputs": [
    {
     "data": {
      "text/plain": [
       "array([   65.03863469,    74.5469214 ,    85.44526675,    97.93688959,\n",
       "         112.25471822,   128.66573377,   147.47594853,   169.03611209,\n",
       "         193.74825167,   222.07316862,   254.53903092,   291.75122175,\n",
       "         334.40362793,   383.29157871,   439.32667603,   503.55379296,\n",
       "         577.17055722,   661.54968303,   758.2645678 ,   869.11863088,\n",
       "         996.17894153,  1141.81476302,  1308.74173171,  1500.07249495,\n",
       "        1719.37475178,  1970.73777902,  2258.848683  ,  2589.07979896,\n",
       "        2967.58886764,  3401.43385727,  3898.70457177,  4468.67349939,\n",
       "        5121.96871462,  5870.77205734,  6729.04628464,  7712.7954311 ,\n",
       "        8840.36323213, 10132.77517524, 11614.1305573 , 13312.05185838,\n",
       "       15258.1998115 ])"
      ]
     },
     "execution_count": 15,
     "metadata": {},
     "output_type": "execute_result"
    }
   ],
   "source": [
    "y_plot"
   ]
  },
  {
   "cell_type": "code",
   "execution_count": 16,
   "metadata": {},
   "outputs": [],
   "source": [
    "expALLDf=pd.DataFrame(list(zip(x_plot,y_plot)),columns=['day','predicted cases'])"
   ]
  },
  {
   "cell_type": "code",
   "execution_count": 17,
   "metadata": {},
   "outputs": [],
   "source": [
    "expALLDf.to_csv(r'australia.final.csv')"
   ]
  },
  {
   "cell_type": "code",
   "execution_count": null,
   "metadata": {},
   "outputs": [],
   "source": []
  }
 ],
 "metadata": {
  "kernelspec": {
   "display_name": "Python 3",
   "language": "python",
   "name": "python3"
  },
  "language_info": {
   "codemirror_mode": {
    "name": "ipython",
    "version": 3
   },
   "file_extension": ".py",
   "mimetype": "text/x-python",
   "name": "python",
   "nbconvert_exporter": "python",
   "pygments_lexer": "ipython3",
   "version": "3.7.6"
  }
 },
 "nbformat": 4,
 "nbformat_minor": 4
}
